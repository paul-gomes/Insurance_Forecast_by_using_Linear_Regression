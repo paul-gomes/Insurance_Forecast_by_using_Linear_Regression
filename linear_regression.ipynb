{
 "cells": [
  {
   "cell_type": "code",
   "execution_count": 1,
   "metadata": {},
   "outputs": [
    {
     "name": "stdout",
     "output_type": "stream",
     "text": [
      "   age     sex    bmi    ...         charges isSmoker region_num\n",
      "0   36  female  22.60    ...      18608.2620        1          1\n",
      "1   18  female  39.16    ...       1633.0444        0          2\n",
      "2   40  female  28.12    ...      22331.5668        1          4\n",
      "\n",
      "[3 rows x 9 columns]\n",
      "   age     sex     bmi    ...          charges isSmoker region_num\n",
      "0   49  female  42.680    ...       9800.88820        0          2\n",
      "1   32    male  37.335    ...       4667.60765        0          4\n",
      "2   27  female  31.400    ...      34838.87300        1          1\n",
      "\n",
      "[3 rows x 9 columns]\n"
     ]
    }
   ],
   "source": [
    "#Reading train and test set\n",
    "import pandas as pd\n",
    "\n",
    "train_set = pd.read_csv(\"datasets/train_set.csv\")\n",
    "test_set = pd.read_csv(\"datasets/test_set.csv\")\n",
    "\n",
    "print(train_set.head(3))\n",
    "print(test_set.head(3))\n",
    "\n",
    "working_set = train_set.copy()"
   ]
  },
  {
   "cell_type": "markdown",
   "metadata": {},
   "source": [
    "1. Initial set of features for X : isSmoker, age \n",
    "2. Initial set of features for Y: charges\n",
    "\n",
    "I want predict individual insurance cost. \"isSmoke\" and \"age\" are an important factors here that could affect someone's insurance cost. As a result, I would choose \"iSmoke\" and \"age\" as my parameters for my model at first. Later, I would see if \"bmi\" and \"region\" to help make the model better."
   ]
  },
  {
   "cell_type": "code",
   "execution_count": 2,
   "metadata": {},
   "outputs": [
    {
     "name": "stdout",
     "output_type": "stream",
     "text": [
      "The score is  0.7155021764803258\n",
      "mean squared error is  41750283.75412038\n",
      "The root mean squared error is  6461.445949175802\n"
     ]
    }
   ],
   "source": [
    "# Your code here\n",
    "from sklearn.linear_model import LinearRegression\n",
    "reg = LinearRegression()\n",
    "X = working_set[[\"isSmoker\", \"age\"]]\n",
    "Y = working_set[\"charges\"]\n",
    "reg.fit(X, Y)\n",
    "\n",
    "print(\"The score is \", reg.score(X,Y))\n",
    "\n",
    "from sklearn.metrics import mean_squared_error\n",
    "y_pred = reg.predict(X)\n",
    "mse = mean_squared_error(Y, y_pred)\n",
    "print(\"mean squared error is \",  mse)\n",
    "\n",
    "from math import sqrt\n",
    "rmse = sqrt(mse)\n",
    "print(\"The root mean squared error is \", rmse)"
   ]
  },
  {
   "cell_type": "code",
   "execution_count": 3,
   "metadata": {},
   "outputs": [
    {
     "name": "stdout",
     "output_type": "stream",
     "text": [
      "The score on the train_set is  0.7413490482280484\n",
      "The score on test_set is  0.772722801913057\n"
     ]
    }
   ],
   "source": [
    "from sklearn.linear_model import LinearRegression\n",
    "reg = LinearRegression()\n",
    "X = working_set[[\"isSmoker\", \"age\", \"bmi\", \"region_num\"]]\n",
    "Y = working_set[\"charges\"]\n",
    "reg.fit(X, Y)\n",
    "\n",
    "print(\"The score on the train_set is \", reg.score(X,Y))\n",
    "\n",
    "#Evaluating on the test_set\n",
    "from sklearn.linear_model import LinearRegression\n",
    "reg = LinearRegression()\n",
    "X = test_set[[\"isSmoker\", \"age\", \"bmi\", \"region_num\"]]\n",
    "Y = test_set[\"charges\"]\n",
    "reg.fit(X, Y)\n",
    "\n",
    "print(\"The score on test_set is \", reg.score(X,Y))"
   ]
  },
  {
   "cell_type": "code",
   "execution_count": null,
   "metadata": {},
   "outputs": [],
   "source": []
  }
 ],
 "metadata": {
  "kernelspec": {
   "display_name": "Python 3 (Spyder)",
   "language": "python3",
   "name": "python3"
  },
  "language_info": {
   "codemirror_mode": {
    "name": "ipython",
    "version": 3
   },
   "file_extension": ".py",
   "mimetype": "text/x-python",
   "name": "python",
   "nbconvert_exporter": "python",
   "pygments_lexer": "ipython3",
   "version": "3.7.1"
  }
 },
 "nbformat": 4,
 "nbformat_minor": 2
}
